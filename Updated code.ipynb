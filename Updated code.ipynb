{
 "cells": [
  {
   "cell_type": "code",
   "execution_count": 1,
   "id": "9c7bdbcc",
   "metadata": {},
   "outputs": [],
   "source": [
    "import time\n",
    "from selenium import webdriver\n",
    "from os import listdir\n",
    "from selenium.common.exceptions import WebDriverException\n",
    "from selenium.webdriver.common.by import By\n",
    "import pandas as pd\n",
    "from selenium.webdriver.support.ui import WebDriverWait\n",
    "from selenium.webdriver.support import expected_conditions as EC\n",
    "from selenium.webdriver.common.by import By\n"
   ]
  },
  {
   "cell_type": "code",
   "execution_count": 2,
   "id": "a6e732cf",
   "metadata": {},
   "outputs": [],
   "source": [
    "driver = webdriver.Chrome()"
   ]
  },
  {
   "cell_type": "code",
   "execution_count": 3,
   "id": "07de6dc3",
   "metadata": {},
   "outputs": [
    {
     "name": "stdout",
     "output_type": "stream",
     "text": [
      "calr\n"
     ]
    }
   ],
   "source": [
    "driver.get(\"https://calrapp.org/\")\n",
    "\n",
    "print(driver.title)"
   ]
  },
  {
   "cell_type": "code",
   "execution_count": 4,
   "id": "77f1ab96",
   "metadata": {},
   "outputs": [],
   "source": [
    "# Click on the Vignettes link\n",
    "continue_link = driver.find_element(By.LINK_TEXT, 'Vignettes').click()"
   ]
  },
  {
   "cell_type": "code",
   "execution_count": 5,
   "id": "b07a5189",
   "metadata": {},
   "outputs": [],
   "source": [
    "# Click on the CalR File link\n",
    "continue_link = driver.find_element(By.PARTIAL_LINK_TEXT, 'CalR Fil').click()"
   ]
  },
  {
   "cell_type": "code",
   "execution_count": 6,
   "id": "4f278cdd",
   "metadata": {},
   "outputs": [],
   "source": [
    "# Click on the Session File link\n",
    "continue_link = driver.find_element(By.PARTIAL_LINK_TEXT, 'Session File').click()"
   ]
  },
  {
   "cell_type": "code",
   "execution_count": 7,
   "id": "2071bb3a",
   "metadata": {},
   "outputs": [],
   "source": [
    "# Click on the Templates tab\n",
    "Temp_tab = driver.find_element(By.PARTIAL_LINK_TEXT, 'Templates').click()"
   ]
  },
  {
   "cell_type": "code",
   "execution_count": 8,
   "id": "0727327f",
   "metadata": {},
   "outputs": [],
   "source": [
    "# Click on the Two groups tab\n",
    "twogroups_tab=driver.find_element(By.PARTIAL_LINK_TEXT, 'Two groups').click()"
   ]
  },
  {
   "cell_type": "code",
   "execution_count": 9,
   "id": "aec840ae",
   "metadata": {},
   "outputs": [
    {
     "name": "stdout",
     "output_type": "stream",
     "text": [
      "C:\\Users\\akhil\\Downloads\\Example1_CalR.csv\n",
      "C:\\Users\\akhil\\Downloads\\Example1_Session_NMR.csv\n"
     ]
    }
   ],
   "source": [
    "# Find all the CSV files in the Downloads directory\n",
    "import os\n",
    "path=r'C:\\Users\\akhil\\Downloads'\n",
    "def find_the_files(path):\n",
    "    files=os.listdir(path)\n",
    "    for item in files:\n",
    "        if os.path.isdir(os.path.join(path,item)):\n",
    "            find_the_files(os.path.join(path,item))    \n",
    "        else:\n",
    "            if item.endswith('.csv'):\n",
    "                print(os.path.join(path,item))\n",
    "filepath=find_the_files(path)"
   ]
  },
  {
   "cell_type": "code",
   "execution_count": 10,
   "id": "00d2efb2",
   "metadata": {},
   "outputs": [],
   "source": [
    "# Enter the path to the CSV files in the input fields\n",
    "s = driver.find_element(By.XPATH,\"//input[@id='file1']\")\n",
    "s.send_keys(\"C:/Users/akhil/Downloads/Example1_CalR.csv\")"
   ]
  },
  {
   "cell_type": "code",
   "execution_count": null,
   "id": "d1c31252",
   "metadata": {},
   "outputs": [],
   "source": []
  },
  {
   "cell_type": "code",
   "execution_count": 11,
   "id": "c5223fdb",
   "metadata": {},
   "outputs": [],
   "source": [
    "# Enter the path to the CSV files in the input fields\n",
    "s = driver.find_element(By.XPATH,\"//input[@id='file3']\")\n",
    "s.send_keys(\"C:/Users/akhil/Downloads/Example1_Session_NMR.csv\")"
   ]
  },
  {
   "cell_type": "code",
   "execution_count": 12,
   "id": "d7edd26c",
   "metadata": {},
   "outputs": [],
   "source": [
    "time.sleep(5)"
   ]
  },
  {
   "cell_type": "code",
   "execution_count": 13,
   "id": "594cc5f3",
   "metadata": {},
   "outputs": [],
   "source": [
    "# Click on the Go to Plots button\n",
    "gotoplot = driver.find_element(By.ID, 'gotoplot').click()"
   ]
  },
  {
   "cell_type": "code",
   "execution_count": 14,
   "id": "32cdfe6f",
   "metadata": {},
   "outputs": [],
   "source": [
    "time.sleep(5)"
   ]
  },
  {
   "cell_type": "code",
   "execution_count": 15,
   "id": "4d9301ba",
   "metadata": {},
   "outputs": [],
   "source": [
    "# Scroll the page so that the generate plot button is visible\n",
    "driver.execute_script(\"window.scrollTo(0, 0)\")"
   ]
  },
  {
   "cell_type": "code",
   "execution_count": 16,
   "id": "73deec61",
   "metadata": {},
   "outputs": [],
   "source": [
    "# Click on the Generate Plot button\n",
    "driver.find_element(By.ID, 'design').click()"
   ]
  },
  {
   "cell_type": "code",
   "execution_count": 17,
   "id": "8a3b0652",
   "metadata": {},
   "outputs": [],
   "source": [
    "time.sleep(5)"
   ]
  },
  {
   "cell_type": "code",
   "execution_count": 18,
   "id": "9193310b",
   "metadata": {},
   "outputs": [
    {
     "name": "stdout",
     "output_type": "stream",
     "text": [
      "Requirement already satisfied: python-docx in c:\\users\\akhil\\anaconda3\\lib\\site-packages (0.8.11)\n",
      "Requirement already satisfied: lxml>=2.3.2 in c:\\users\\akhil\\anaconda3\\lib\\site-packages (from python-docx) (4.9.1)\n"
     ]
    }
   ],
   "source": [
    "!pip install python-docx"
   ]
  },
  {
   "cell_type": "code",
   "execution_count": 19,
   "id": "784b7046",
   "metadata": {},
   "outputs": [],
   "source": [
    "# Download the plots to a Word document\n",
    "import urllib.request\n",
    "\n",
    "import docx\n",
    "from docx.shared import Inches\n",
    "from PIL import Image"
   ]
  },
  {
   "cell_type": "code",
   "execution_count": 20,
   "id": "29d5c490",
   "metadata": {},
   "outputs": [],
   "source": [
    "url = \"data:image/png;base64,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\""
   ]
  },
  {
   "cell_type": "code",
   "execution_count": 21,
   "id": "dc5ce857",
   "metadata": {},
   "outputs": [
    {
     "data": {
      "text/plain": [
       "('image.png', <email.message.Message at 0x268291683a0>)"
      ]
     },
     "execution_count": 21,
     "metadata": {},
     "output_type": "execute_result"
    }
   ],
   "source": [
    "filename = \"image.png\"\n",
    "urllib.request.urlretrieve(url, filename)"
   ]
  },
  {
   "cell_type": "code",
   "execution_count": 22,
   "id": "b11a6116",
   "metadata": {},
   "outputs": [],
   "source": [
    " # Get the width and height of the image\n",
    "with Image.open(filename) as img:\n",
    "    width, height = img.size"
   ]
  },
  {
   "cell_type": "code",
   "execution_count": 23,
   "id": "fc17d482",
   "metadata": {},
   "outputs": [],
   "source": [
    "# Create an instance of a word document\n",
    "doc = docx.Document()"
   ]
  },
  {
   "cell_type": "code",
   "execution_count": 24,
   "id": "cd6ad33d",
   "metadata": {},
   "outputs": [
    {
     "data": {
      "text/plain": [
       "<docx.text.paragraph.Paragraph at 0x268291edbd0>"
      ]
     },
     "execution_count": 24,
     "metadata": {},
     "output_type": "execute_result"
    }
   ],
   "source": [
    "# Add a Title to the document\n",
    "doc.add_heading('calR', 0)"
   ]
  },
  {
   "cell_type": "code",
   "execution_count": 25,
   "id": "4b0a02a0",
   "metadata": {},
   "outputs": [
    {
     "data": {
      "text/plain": [
       "<docx.shape.InlineShape at 0x2682a248310>"
      ]
     },
     "execution_count": 25,
     "metadata": {},
     "output_type": "execute_result"
    }
   ],
   "source": [
    "# Image with defined size\n",
    "doc.add_heading('Plots with Defined Size:', 0)\n",
    "\n",
    "# Add a picture to the Word document\n",
    "doc.add_picture(filename, width=docx.shared.Cm(width/100), height=docx.shared.Cm(height/100))\n",
    "\n",
    "doc.add_picture(filename, width=Inches(4), height=Inches(4))\n",
    "   "
   ]
  },
  {
   "cell_type": "code",
   "execution_count": 26,
   "id": "fe001415",
   "metadata": {},
   "outputs": [],
   "source": [
    "\n",
    "# Save the Word document\n",
    "doc.save(\"CalR.docx\")"
   ]
  },
  {
   "cell_type": "code",
   "execution_count": null,
   "id": "8bdc5f28",
   "metadata": {},
   "outputs": [],
   "source": []
  },
  {
   "cell_type": "code",
   "execution_count": null,
   "id": "9c27e4ac",
   "metadata": {},
   "outputs": [],
   "source": []
  },
  {
   "cell_type": "code",
   "execution_count": null,
   "id": "1e159716",
   "metadata": {},
   "outputs": [],
   "source": []
  }
 ],
 "metadata": {
  "kernelspec": {
   "display_name": "Python 3 (ipykernel)",
   "language": "python",
   "name": "python3"
  },
  "language_info": {
   "codemirror_mode": {
    "name": "ipython",
    "version": 3
   },
   "file_extension": ".py",
   "mimetype": "text/x-python",
   "name": "python",
   "nbconvert_exporter": "python",
   "pygments_lexer": "ipython3",
   "version": "3.10.9"
  }
 },
 "nbformat": 4,
 "nbformat_minor": 5
}
